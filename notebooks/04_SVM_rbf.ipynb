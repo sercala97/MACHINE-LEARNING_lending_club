{
 "cells": [
  {
   "cell_type": "code",
   "execution_count": 1,
   "metadata": {},
   "outputs": [],
   "source": [
    "from sklearn.impute import SimpleImputer\n",
    "\n",
    "import os\n",
    "import pandas as pd\n",
    "import numpy as np\n",
    "import random\n",
    "import pickle\n",
    "import matplotlib.pyplot as plt\n",
    "from sklearn.svm import LinearSVC\n",
    "\n",
    "from sklearn.preprocessing import StandardScaler\n",
    "from sklearn.model_selection import train_test_split\n",
    "from sklearn.model_selection import GridSearchCV\n",
    "from sklearn.pipeline import Pipeline\n",
    "\n",
    "from sklearn.linear_model import LogisticRegression\n",
    "from sklearn import neighbors, datasets\n",
    "from sklearn.svm import SVC\n",
    "from sklearn.linear_model import SGDClassifier\n",
    "\n",
    "\n",
    "from sklearn.ensemble import AdaBoostClassifier\n",
    "from sklearn.tree import DecisionTreeClassifier\n",
    "from collections import Counter\n",
    "from sklearn.datasets import make_classification\n",
    "from sklearn.ensemble import RandomForestClassifier\n",
    "from sklearn.ensemble import AdaBoostClassifier\n",
    "from sklearn.tree import DecisionTreeClassifier\n",
    "from collections import Counter\n",
    "from sklearn.datasets import make_classification\n",
    "from sklearn.ensemble import RandomForestClassifier\n",
    "from sklearn.ensemble import VotingClassifier\n",
    "\n",
    "\n",
    "from sklearn.metrics import accuracy_score\n",
    "from sklearn.metrics import confusion_matrix\n",
    "from sklearn.metrics import plot_confusion_matrix\n",
    "from sklearn.metrics import classification_report, confusion_matrix, roc_curve, auc, \\\n",
    "                            silhouette_score, recall_score, precision_score, make_scorer, \\\n",
    "                            roc_auc_score, f1_score, precision_recall_curve\n",
    "\n",
    "import scikitplot as skplt\n",
    "import matplotlib.pyplot as plt"
   ]
  },
  {
   "cell_type": "code",
   "execution_count": 2,
   "metadata": {},
   "outputs": [],
   "source": [
    "loan_training_set4 = pd.read_csv('Loan_training_set_4_4.csv', sep = ',' , skiprows=1, skipfooter=2, engine = \"python\")\n",
    "loan_training_set3 = pd.read_csv('Loan_training_set_3_4.csv', sep = ',' , skiprows=1, skipfooter=2, engine = \"python\")\n",
    "loan_training_set2 = pd.read_csv('Loan_training_set_2_4.csv', sep = ',' , skiprows=1, skipfooter=2, engine = \"python\")\n",
    "loan_training_set1 = pd.read_csv('Loan_training_set_1_4.csv', sep = ',' , skiprows=1, skipfooter=2, engine = \"python\")\n",
    "frames = [loan_training_set1, loan_training_set2, loan_training_set3,loan_training_set4]\n",
    "total_lendingclub = pd.concat(frames)"
   ]
  },
  {
   "cell_type": "code",
   "execution_count": 3,
   "metadata": {},
   "outputs": [],
   "source": [
    "df = total_lendingclub.loc[:, loan_training_set1.columns.isin([\"loan_status\", \"annual_inc\",\n",
    "\"annual_inc_joint\",\n",
    "\"application_type\",\n",
    "\"dti\",\n",
    "\"dti_joint\",\n",
    "\"emp_length\",\n",
    "\"grade\",\n",
    "\"home_ownership\",\n",
    "\"loan_amnt\",\n",
    "\"mort_acc\",\n",
    "\"open_act_il\",\n",
    "\"open_rv_12m\",\n",
    "\"pct_tl_nvr_dlq\",\n",
    "\"pub_rec\",\n",
    "\"pub_rec_bankruptcies\",\n",
    "\"purpose\",\n",
    "\"term\",\n",
    "\"tot_coll_amt\"\n",
    "\"tot_cur_bal\",\n",
    "\"total_acc\",\n",
    "\"int_rate\"\n",
    "])]\n",
    "\n"
   ]
  },
  {
   "cell_type": "code",
   "execution_count": 4,
   "metadata": {},
   "outputs": [],
   "source": [
    "df = df[df[\"loan_status\"]!=\"Current\"]"
   ]
  },
  {
   "cell_type": "code",
   "execution_count": 5,
   "metadata": {},
   "outputs": [
    {
     "data": {
      "text/plain": [
       "loan_amnt                    0\n",
       "term                         0\n",
       "int_rate                     0\n",
       "grade                        0\n",
       "emp_length               25086\n",
       "home_ownership               0\n",
       "annual_inc                   0\n",
       "loan_status                  0\n",
       "purpose                      0\n",
       "dti                         21\n",
       "pub_rec                      0\n",
       "total_acc                    0\n",
       "application_type             0\n",
       "annual_inc_joint        460541\n",
       "dti_joint               460541\n",
       "open_act_il             430839\n",
       "open_rv_12m             430839\n",
       "mort_acc                     0\n",
       "pct_tl_nvr_dlq               0\n",
       "pub_rec_bankruptcies         0\n",
       "dtype: int64"
      ]
     },
     "execution_count": 5,
     "metadata": {},
     "output_type": "execute_result"
    }
   ],
   "source": [
    "df.isnull().sum()"
   ]
  },
  {
   "cell_type": "markdown",
   "metadata": {},
   "source": [
    "# Variables numéricas"
   ]
  },
  {
   "cell_type": "code",
   "execution_count": 5,
   "metadata": {},
   "outputs": [],
   "source": [
    "int_numeric = df[\"int_rate\"].str.strip(\"%\")\n",
    "int_numeric = pd.to_numeric(int_numeric)\n",
    "df[\"int_rate\"] = int_numeric\n"
   ]
  },
  {
   "cell_type": "code",
   "execution_count": 6,
   "metadata": {},
   "outputs": [],
   "source": [
    "from sklearn.impute import SimpleImputer\n",
    "\n",
    "numericas = df.select_dtypes(exclude=['object']).columns\n",
    "\n",
    "numeric_transformer = Pipeline(steps=[\n",
    "    ('imputer', SimpleImputer(strategy='median')),\n",
    "    ('scaler', StandardScaler())])"
   ]
  },
  {
   "cell_type": "code",
   "execution_count": 7,
   "metadata": {},
   "outputs": [],
   "source": [
    "numericas_df = df.select_dtypes(exclude=['object'])"
   ]
  },
  {
   "cell_type": "code",
   "execution_count": 26,
   "metadata": {},
   "outputs": [
    {
     "data": {
      "text/html": [
       "<div>\n",
       "<style scoped>\n",
       "    .dataframe tbody tr th:only-of-type {\n",
       "        vertical-align: middle;\n",
       "    }\n",
       "\n",
       "    .dataframe tbody tr th {\n",
       "        vertical-align: top;\n",
       "    }\n",
       "\n",
       "    .dataframe thead th {\n",
       "        text-align: right;\n",
       "    }\n",
       "</style>\n",
       "<table border=\"1\" class=\"dataframe\">\n",
       "  <thead>\n",
       "    <tr style=\"text-align: right;\">\n",
       "      <th></th>\n",
       "      <th>loan_amnt</th>\n",
       "      <th>int_rate</th>\n",
       "      <th>annual_inc</th>\n",
       "      <th>dti</th>\n",
       "      <th>pub_rec</th>\n",
       "      <th>total_acc</th>\n",
       "      <th>annual_inc_joint</th>\n",
       "      <th>dti_joint</th>\n",
       "      <th>open_act_il</th>\n",
       "      <th>open_rv_12m</th>\n",
       "      <th>mort_acc</th>\n",
       "      <th>pct_tl_nvr_dlq</th>\n",
       "      <th>pub_rec_bankruptcies</th>\n",
       "    </tr>\n",
       "  </thead>\n",
       "  <tbody>\n",
       "    <tr>\n",
       "      <th>8</th>\n",
       "      <td>11575</td>\n",
       "      <td>7.35</td>\n",
       "      <td>153000.0</td>\n",
       "      <td>16.99</td>\n",
       "      <td>1</td>\n",
       "      <td>46</td>\n",
       "      <td>NaN</td>\n",
       "      <td>NaN</td>\n",
       "      <td>1.0</td>\n",
       "      <td>2.0</td>\n",
       "      <td>2</td>\n",
       "      <td>95.7</td>\n",
       "      <td>1</td>\n",
       "    </tr>\n",
       "    <tr>\n",
       "      <th>10</th>\n",
       "      <td>7200</td>\n",
       "      <td>24.85</td>\n",
       "      <td>50000.0</td>\n",
       "      <td>6.07</td>\n",
       "      <td>0</td>\n",
       "      <td>5</td>\n",
       "      <td>NaN</td>\n",
       "      <td>NaN</td>\n",
       "      <td>1.0</td>\n",
       "      <td>0.0</td>\n",
       "      <td>0</td>\n",
       "      <td>80.0</td>\n",
       "      <td>0</td>\n",
       "    </tr>\n",
       "    <tr>\n",
       "      <th>24</th>\n",
       "      <td>7500</td>\n",
       "      <td>7.35</td>\n",
       "      <td>110000.0</td>\n",
       "      <td>13.12</td>\n",
       "      <td>0</td>\n",
       "      <td>27</td>\n",
       "      <td>NaN</td>\n",
       "      <td>NaN</td>\n",
       "      <td>4.0</td>\n",
       "      <td>1.0</td>\n",
       "      <td>4</td>\n",
       "      <td>100.0</td>\n",
       "      <td>0</td>\n",
       "    </tr>\n",
       "    <tr>\n",
       "      <th>42</th>\n",
       "      <td>10000</td>\n",
       "      <td>16.02</td>\n",
       "      <td>51979.0</td>\n",
       "      <td>10.11</td>\n",
       "      <td>2</td>\n",
       "      <td>21</td>\n",
       "      <td>NaN</td>\n",
       "      <td>NaN</td>\n",
       "      <td>1.0</td>\n",
       "      <td>2.0</td>\n",
       "      <td>0</td>\n",
       "      <td>100.0</td>\n",
       "      <td>2</td>\n",
       "    </tr>\n",
       "    <tr>\n",
       "      <th>91</th>\n",
       "      <td>14000</td>\n",
       "      <td>16.02</td>\n",
       "      <td>75000.0</td>\n",
       "      <td>10.86</td>\n",
       "      <td>0</td>\n",
       "      <td>10</td>\n",
       "      <td>NaN</td>\n",
       "      <td>NaN</td>\n",
       "      <td>2.0</td>\n",
       "      <td>2.0</td>\n",
       "      <td>1</td>\n",
       "      <td>90.0</td>\n",
       "      <td>0</td>\n",
       "    </tr>\n",
       "    <tr>\n",
       "      <th>...</th>\n",
       "      <td>...</td>\n",
       "      <td>...</td>\n",
       "      <td>...</td>\n",
       "      <td>...</td>\n",
       "      <td>...</td>\n",
       "      <td>...</td>\n",
       "      <td>...</td>\n",
       "      <td>...</td>\n",
       "      <td>...</td>\n",
       "      <td>...</td>\n",
       "      <td>...</td>\n",
       "      <td>...</td>\n",
       "      <td>...</td>\n",
       "    </tr>\n",
       "    <tr>\n",
       "      <th>421088</th>\n",
       "      <td>11575</td>\n",
       "      <td>15.59</td>\n",
       "      <td>25400.0</td>\n",
       "      <td>27.08</td>\n",
       "      <td>0</td>\n",
       "      <td>18</td>\n",
       "      <td>NaN</td>\n",
       "      <td>NaN</td>\n",
       "      <td>NaN</td>\n",
       "      <td>NaN</td>\n",
       "      <td>0</td>\n",
       "      <td>100.0</td>\n",
       "      <td>0</td>\n",
       "    </tr>\n",
       "    <tr>\n",
       "      <th>421089</th>\n",
       "      <td>12000</td>\n",
       "      <td>11.99</td>\n",
       "      <td>63000.0</td>\n",
       "      <td>23.69</td>\n",
       "      <td>0</td>\n",
       "      <td>61</td>\n",
       "      <td>NaN</td>\n",
       "      <td>NaN</td>\n",
       "      <td>NaN</td>\n",
       "      <td>NaN</td>\n",
       "      <td>1</td>\n",
       "      <td>98.3</td>\n",
       "      <td>0</td>\n",
       "    </tr>\n",
       "    <tr>\n",
       "      <th>421092</th>\n",
       "      <td>13000</td>\n",
       "      <td>15.99</td>\n",
       "      <td>35000.0</td>\n",
       "      <td>30.90</td>\n",
       "      <td>1</td>\n",
       "      <td>22</td>\n",
       "      <td>NaN</td>\n",
       "      <td>NaN</td>\n",
       "      <td>NaN</td>\n",
       "      <td>NaN</td>\n",
       "      <td>0</td>\n",
       "      <td>100.0</td>\n",
       "      <td>1</td>\n",
       "    </tr>\n",
       "    <tr>\n",
       "      <th>421093</th>\n",
       "      <td>12000</td>\n",
       "      <td>19.99</td>\n",
       "      <td>64400.0</td>\n",
       "      <td>27.19</td>\n",
       "      <td>0</td>\n",
       "      <td>20</td>\n",
       "      <td>NaN</td>\n",
       "      <td>NaN</td>\n",
       "      <td>NaN</td>\n",
       "      <td>NaN</td>\n",
       "      <td>0</td>\n",
       "      <td>95.0</td>\n",
       "      <td>0</td>\n",
       "    </tr>\n",
       "    <tr>\n",
       "      <th>421094</th>\n",
       "      <td>20000</td>\n",
       "      <td>11.99</td>\n",
       "      <td>100000.0</td>\n",
       "      <td>10.83</td>\n",
       "      <td>1</td>\n",
       "      <td>10</td>\n",
       "      <td>NaN</td>\n",
       "      <td>NaN</td>\n",
       "      <td>NaN</td>\n",
       "      <td>NaN</td>\n",
       "      <td>0</td>\n",
       "      <td>100.0</td>\n",
       "      <td>0</td>\n",
       "    </tr>\n",
       "  </tbody>\n",
       "</table>\n",
       "<p>462191 rows × 13 columns</p>\n",
       "</div>"
      ],
      "text/plain": [
       "        loan_amnt  int_rate  annual_inc    dti  pub_rec  total_acc  \\\n",
       "8           11575      7.35    153000.0  16.99        1         46   \n",
       "10           7200     24.85     50000.0   6.07        0          5   \n",
       "24           7500      7.35    110000.0  13.12        0         27   \n",
       "42          10000     16.02     51979.0  10.11        2         21   \n",
       "91          14000     16.02     75000.0  10.86        0         10   \n",
       "...           ...       ...         ...    ...      ...        ...   \n",
       "421088      11575     15.59     25400.0  27.08        0         18   \n",
       "421089      12000     11.99     63000.0  23.69        0         61   \n",
       "421092      13000     15.99     35000.0  30.90        1         22   \n",
       "421093      12000     19.99     64400.0  27.19        0         20   \n",
       "421094      20000     11.99    100000.0  10.83        1         10   \n",
       "\n",
       "        annual_inc_joint  dti_joint  open_act_il  open_rv_12m  mort_acc  \\\n",
       "8                    NaN        NaN          1.0          2.0         2   \n",
       "10                   NaN        NaN          1.0          0.0         0   \n",
       "24                   NaN        NaN          4.0          1.0         4   \n",
       "42                   NaN        NaN          1.0          2.0         0   \n",
       "91                   NaN        NaN          2.0          2.0         1   \n",
       "...                  ...        ...          ...          ...       ...   \n",
       "421088               NaN        NaN          NaN          NaN         0   \n",
       "421089               NaN        NaN          NaN          NaN         1   \n",
       "421092               NaN        NaN          NaN          NaN         0   \n",
       "421093               NaN        NaN          NaN          NaN         0   \n",
       "421094               NaN        NaN          NaN          NaN         0   \n",
       "\n",
       "        pct_tl_nvr_dlq  pub_rec_bankruptcies  \n",
       "8                 95.7                     1  \n",
       "10                80.0                     0  \n",
       "24               100.0                     0  \n",
       "42               100.0                     2  \n",
       "91                90.0                     0  \n",
       "...                ...                   ...  \n",
       "421088           100.0                     0  \n",
       "421089            98.3                     0  \n",
       "421092           100.0                     1  \n",
       "421093            95.0                     0  \n",
       "421094           100.0                     0  \n",
       "\n",
       "[462191 rows x 13 columns]"
      ]
     },
     "execution_count": 26,
     "metadata": {},
     "output_type": "execute_result"
    }
   ],
   "source": [
    "numericas_df"
   ]
  },
  {
   "cell_type": "markdown",
   "metadata": {},
   "source": [
    "## Variables categóricas"
   ]
  },
  {
   "cell_type": "code",
   "execution_count": 8,
   "metadata": {},
   "outputs": [],
   "source": [
    "from sklearn.preprocessing import OneHotEncoder\n",
    "\n",
    "categorical_transformer = Pipeline(steps=[\n",
    "    ('imputer', SimpleImputer(strategy='constant', fill_value='missing')),\n",
    "    ('onehot', OneHotEncoder(handle_unknown='ignore'))])\n"
   ]
  },
  {
   "cell_type": "code",
   "execution_count": 9,
   "metadata": {},
   "outputs": [
    {
     "data": {
      "text/plain": [
       "Index(['term', 'grade', 'emp_length', 'home_ownership', 'purpose',\n",
       "       'application_type'],\n",
       "      dtype='object')"
      ]
     },
     "execution_count": 9,
     "metadata": {},
     "output_type": "execute_result"
    }
   ],
   "source": [
    "categoricas = df.select_dtypes(include=['object']).drop(['loan_status'], axis=1).columns\n",
    "\n",
    "categoricas"
   ]
  },
  {
   "cell_type": "code",
   "execution_count": 10,
   "metadata": {},
   "outputs": [],
   "source": [
    "categoricas_df = df.select_dtypes(include=['object']).drop(['loan_status'], axis=1)"
   ]
  },
  {
   "cell_type": "code",
   "execution_count": 13,
   "metadata": {},
   "outputs": [
    {
     "data": {
      "text/html": [
       "<div>\n",
       "<style scoped>\n",
       "    .dataframe tbody tr th:only-of-type {\n",
       "        vertical-align: middle;\n",
       "    }\n",
       "\n",
       "    .dataframe tbody tr th {\n",
       "        vertical-align: top;\n",
       "    }\n",
       "\n",
       "    .dataframe thead th {\n",
       "        text-align: right;\n",
       "    }\n",
       "</style>\n",
       "<table border=\"1\" class=\"dataframe\">\n",
       "  <thead>\n",
       "    <tr style=\"text-align: right;\">\n",
       "      <th></th>\n",
       "      <th>term</th>\n",
       "      <th>grade</th>\n",
       "      <th>emp_length</th>\n",
       "      <th>home_ownership</th>\n",
       "      <th>purpose</th>\n",
       "      <th>application_type</th>\n",
       "    </tr>\n",
       "  </thead>\n",
       "  <tbody>\n",
       "    <tr>\n",
       "      <th>8</th>\n",
       "      <td>36 months</td>\n",
       "      <td>A</td>\n",
       "      <td>6 years</td>\n",
       "      <td>OWN</td>\n",
       "      <td>credit_card</td>\n",
       "      <td>Individual</td>\n",
       "    </tr>\n",
       "    <tr>\n",
       "      <th>10</th>\n",
       "      <td>36 months</td>\n",
       "      <td>E</td>\n",
       "      <td>2 years</td>\n",
       "      <td>RENT</td>\n",
       "      <td>debt_consolidation</td>\n",
       "      <td>Individual</td>\n",
       "    </tr>\n",
       "    <tr>\n",
       "      <th>24</th>\n",
       "      <td>36 months</td>\n",
       "      <td>A</td>\n",
       "      <td>7 years</td>\n",
       "      <td>MORTGAGE</td>\n",
       "      <td>debt_consolidation</td>\n",
       "      <td>Individual</td>\n",
       "    </tr>\n",
       "    <tr>\n",
       "      <th>42</th>\n",
       "      <td>60 months</td>\n",
       "      <td>C</td>\n",
       "      <td>7 years</td>\n",
       "      <td>RENT</td>\n",
       "      <td>debt_consolidation</td>\n",
       "      <td>Individual</td>\n",
       "    </tr>\n",
       "    <tr>\n",
       "      <th>91</th>\n",
       "      <td>36 months</td>\n",
       "      <td>C</td>\n",
       "      <td>7 years</td>\n",
       "      <td>MORTGAGE</td>\n",
       "      <td>debt_consolidation</td>\n",
       "      <td>Individual</td>\n",
       "    </tr>\n",
       "    <tr>\n",
       "      <th>...</th>\n",
       "      <td>...</td>\n",
       "      <td>...</td>\n",
       "      <td>...</td>\n",
       "      <td>...</td>\n",
       "      <td>...</td>\n",
       "      <td>...</td>\n",
       "    </tr>\n",
       "    <tr>\n",
       "      <th>421088</th>\n",
       "      <td>36 months</td>\n",
       "      <td>D</td>\n",
       "      <td>10+ years</td>\n",
       "      <td>RENT</td>\n",
       "      <td>credit_card</td>\n",
       "      <td>Individual</td>\n",
       "    </tr>\n",
       "    <tr>\n",
       "      <th>421089</th>\n",
       "      <td>36 months</td>\n",
       "      <td>B</td>\n",
       "      <td>&lt; 1 year</td>\n",
       "      <td>MORTGAGE</td>\n",
       "      <td>credit_card</td>\n",
       "      <td>Individual</td>\n",
       "    </tr>\n",
       "    <tr>\n",
       "      <th>421092</th>\n",
       "      <td>60 months</td>\n",
       "      <td>D</td>\n",
       "      <td>5 years</td>\n",
       "      <td>RENT</td>\n",
       "      <td>debt_consolidation</td>\n",
       "      <td>Individual</td>\n",
       "    </tr>\n",
       "    <tr>\n",
       "      <th>421093</th>\n",
       "      <td>60 months</td>\n",
       "      <td>E</td>\n",
       "      <td>1 year</td>\n",
       "      <td>RENT</td>\n",
       "      <td>debt_consolidation</td>\n",
       "      <td>Individual</td>\n",
       "    </tr>\n",
       "    <tr>\n",
       "      <th>421094</th>\n",
       "      <td>36 months</td>\n",
       "      <td>B</td>\n",
       "      <td>10+ years</td>\n",
       "      <td>RENT</td>\n",
       "      <td>credit_card</td>\n",
       "      <td>Individual</td>\n",
       "    </tr>\n",
       "  </tbody>\n",
       "</table>\n",
       "<p>462191 rows × 6 columns</p>\n",
       "</div>"
      ],
      "text/plain": [
       "              term grade emp_length home_ownership             purpose  \\\n",
       "8        36 months     A    6 years            OWN         credit_card   \n",
       "10       36 months     E    2 years           RENT  debt_consolidation   \n",
       "24       36 months     A    7 years       MORTGAGE  debt_consolidation   \n",
       "42       60 months     C    7 years           RENT  debt_consolidation   \n",
       "91       36 months     C    7 years       MORTGAGE  debt_consolidation   \n",
       "...            ...   ...        ...            ...                 ...   \n",
       "421088   36 months     D  10+ years           RENT         credit_card   \n",
       "421089   36 months     B   < 1 year       MORTGAGE         credit_card   \n",
       "421092   60 months     D    5 years           RENT  debt_consolidation   \n",
       "421093   60 months     E     1 year           RENT  debt_consolidation   \n",
       "421094   36 months     B  10+ years           RENT         credit_card   \n",
       "\n",
       "       application_type  \n",
       "8            Individual  \n",
       "10           Individual  \n",
       "24           Individual  \n",
       "42           Individual  \n",
       "91           Individual  \n",
       "...                 ...  \n",
       "421088       Individual  \n",
       "421089       Individual  \n",
       "421092       Individual  \n",
       "421093       Individual  \n",
       "421094       Individual  \n",
       "\n",
       "[462191 rows x 6 columns]"
      ]
     },
     "execution_count": 13,
     "metadata": {},
     "output_type": "execute_result"
    }
   ],
   "source": [
    "categoricas_df"
   ]
  },
  {
   "cell_type": "markdown",
   "metadata": {},
   "source": [
    "## Concatenación"
   ]
  },
  {
   "cell_type": "code",
   "execution_count": 11,
   "metadata": {},
   "outputs": [],
   "source": [
    "loan_status = pd.DataFrame(df['loan_status'])"
   ]
  },
  {
   "cell_type": "code",
   "execution_count": 12,
   "metadata": {},
   "outputs": [],
   "source": [
    "lendingclub = pd.concat([numericas_df, loan_status, categoricas_df],  axis=1)"
   ]
  },
  {
   "cell_type": "code",
   "execution_count": 13,
   "metadata": {},
   "outputs": [],
   "source": [
    "from sklearn.compose import ColumnTransformer\n",
    "\n",
    "\n",
    "preprocessor = ColumnTransformer(\n",
    "    transformers=[\n",
    "        ('num', numeric_transformer, numericas),\n",
    "        ('cat', categorical_transformer, categoricas)])"
   ]
  },
  {
   "cell_type": "code",
   "execution_count": 14,
   "metadata": {},
   "outputs": [
    {
     "data": {
      "text/html": [
       "<div>\n",
       "<style scoped>\n",
       "    .dataframe tbody tr th:only-of-type {\n",
       "        vertical-align: middle;\n",
       "    }\n",
       "\n",
       "    .dataframe tbody tr th {\n",
       "        vertical-align: top;\n",
       "    }\n",
       "\n",
       "    .dataframe thead th {\n",
       "        text-align: right;\n",
       "    }\n",
       "</style>\n",
       "<table border=\"1\" class=\"dataframe\">\n",
       "  <thead>\n",
       "    <tr style=\"text-align: right;\">\n",
       "      <th></th>\n",
       "      <th>loan_amnt</th>\n",
       "      <th>int_rate</th>\n",
       "      <th>annual_inc</th>\n",
       "      <th>dti</th>\n",
       "      <th>pub_rec</th>\n",
       "      <th>total_acc</th>\n",
       "      <th>annual_inc_joint</th>\n",
       "      <th>dti_joint</th>\n",
       "      <th>open_act_il</th>\n",
       "      <th>open_rv_12m</th>\n",
       "      <th>mort_acc</th>\n",
       "      <th>pct_tl_nvr_dlq</th>\n",
       "      <th>pub_rec_bankruptcies</th>\n",
       "      <th>loan_status</th>\n",
       "      <th>term</th>\n",
       "      <th>grade</th>\n",
       "      <th>emp_length</th>\n",
       "      <th>home_ownership</th>\n",
       "      <th>purpose</th>\n",
       "      <th>application_type</th>\n",
       "    </tr>\n",
       "  </thead>\n",
       "  <tbody>\n",
       "    <tr>\n",
       "      <th>8</th>\n",
       "      <td>11575</td>\n",
       "      <td>7.35</td>\n",
       "      <td>153000.0</td>\n",
       "      <td>16.99</td>\n",
       "      <td>1</td>\n",
       "      <td>46</td>\n",
       "      <td>NaN</td>\n",
       "      <td>NaN</td>\n",
       "      <td>1.0</td>\n",
       "      <td>2.0</td>\n",
       "      <td>2</td>\n",
       "      <td>95.7</td>\n",
       "      <td>1</td>\n",
       "      <td>1</td>\n",
       "      <td>36 months</td>\n",
       "      <td>A</td>\n",
       "      <td>6 years</td>\n",
       "      <td>OWN</td>\n",
       "      <td>credit_card</td>\n",
       "      <td>Individual</td>\n",
       "    </tr>\n",
       "    <tr>\n",
       "      <th>10</th>\n",
       "      <td>7200</td>\n",
       "      <td>24.85</td>\n",
       "      <td>50000.0</td>\n",
       "      <td>6.07</td>\n",
       "      <td>0</td>\n",
       "      <td>5</td>\n",
       "      <td>NaN</td>\n",
       "      <td>NaN</td>\n",
       "      <td>1.0</td>\n",
       "      <td>0.0</td>\n",
       "      <td>0</td>\n",
       "      <td>80.0</td>\n",
       "      <td>0</td>\n",
       "      <td>1</td>\n",
       "      <td>36 months</td>\n",
       "      <td>E</td>\n",
       "      <td>2 years</td>\n",
       "      <td>RENT</td>\n",
       "      <td>debt_consolidation</td>\n",
       "      <td>Individual</td>\n",
       "    </tr>\n",
       "    <tr>\n",
       "      <th>24</th>\n",
       "      <td>7500</td>\n",
       "      <td>7.35</td>\n",
       "      <td>110000.0</td>\n",
       "      <td>13.12</td>\n",
       "      <td>0</td>\n",
       "      <td>27</td>\n",
       "      <td>NaN</td>\n",
       "      <td>NaN</td>\n",
       "      <td>4.0</td>\n",
       "      <td>1.0</td>\n",
       "      <td>4</td>\n",
       "      <td>100.0</td>\n",
       "      <td>0</td>\n",
       "      <td>1</td>\n",
       "      <td>36 months</td>\n",
       "      <td>A</td>\n",
       "      <td>7 years</td>\n",
       "      <td>MORTGAGE</td>\n",
       "      <td>debt_consolidation</td>\n",
       "      <td>Individual</td>\n",
       "    </tr>\n",
       "    <tr>\n",
       "      <th>42</th>\n",
       "      <td>10000</td>\n",
       "      <td>16.02</td>\n",
       "      <td>51979.0</td>\n",
       "      <td>10.11</td>\n",
       "      <td>2</td>\n",
       "      <td>21</td>\n",
       "      <td>NaN</td>\n",
       "      <td>NaN</td>\n",
       "      <td>1.0</td>\n",
       "      <td>2.0</td>\n",
       "      <td>0</td>\n",
       "      <td>100.0</td>\n",
       "      <td>2</td>\n",
       "      <td>1</td>\n",
       "      <td>60 months</td>\n",
       "      <td>C</td>\n",
       "      <td>7 years</td>\n",
       "      <td>RENT</td>\n",
       "      <td>debt_consolidation</td>\n",
       "      <td>Individual</td>\n",
       "    </tr>\n",
       "    <tr>\n",
       "      <th>91</th>\n",
       "      <td>14000</td>\n",
       "      <td>16.02</td>\n",
       "      <td>75000.0</td>\n",
       "      <td>10.86</td>\n",
       "      <td>0</td>\n",
       "      <td>10</td>\n",
       "      <td>NaN</td>\n",
       "      <td>NaN</td>\n",
       "      <td>2.0</td>\n",
       "      <td>2.0</td>\n",
       "      <td>1</td>\n",
       "      <td>90.0</td>\n",
       "      <td>0</td>\n",
       "      <td>1</td>\n",
       "      <td>36 months</td>\n",
       "      <td>C</td>\n",
       "      <td>7 years</td>\n",
       "      <td>MORTGAGE</td>\n",
       "      <td>debt_consolidation</td>\n",
       "      <td>Individual</td>\n",
       "    </tr>\n",
       "    <tr>\n",
       "      <th>...</th>\n",
       "      <td>...</td>\n",
       "      <td>...</td>\n",
       "      <td>...</td>\n",
       "      <td>...</td>\n",
       "      <td>...</td>\n",
       "      <td>...</td>\n",
       "      <td>...</td>\n",
       "      <td>...</td>\n",
       "      <td>...</td>\n",
       "      <td>...</td>\n",
       "      <td>...</td>\n",
       "      <td>...</td>\n",
       "      <td>...</td>\n",
       "      <td>...</td>\n",
       "      <td>...</td>\n",
       "      <td>...</td>\n",
       "      <td>...</td>\n",
       "      <td>...</td>\n",
       "      <td>...</td>\n",
       "      <td>...</td>\n",
       "    </tr>\n",
       "    <tr>\n",
       "      <th>421088</th>\n",
       "      <td>11575</td>\n",
       "      <td>15.59</td>\n",
       "      <td>25400.0</td>\n",
       "      <td>27.08</td>\n",
       "      <td>0</td>\n",
       "      <td>18</td>\n",
       "      <td>NaN</td>\n",
       "      <td>NaN</td>\n",
       "      <td>NaN</td>\n",
       "      <td>NaN</td>\n",
       "      <td>0</td>\n",
       "      <td>100.0</td>\n",
       "      <td>0</td>\n",
       "      <td>1</td>\n",
       "      <td>36 months</td>\n",
       "      <td>D</td>\n",
       "      <td>10+ years</td>\n",
       "      <td>RENT</td>\n",
       "      <td>credit_card</td>\n",
       "      <td>Individual</td>\n",
       "    </tr>\n",
       "    <tr>\n",
       "      <th>421089</th>\n",
       "      <td>12000</td>\n",
       "      <td>11.99</td>\n",
       "      <td>63000.0</td>\n",
       "      <td>23.69</td>\n",
       "      <td>0</td>\n",
       "      <td>61</td>\n",
       "      <td>NaN</td>\n",
       "      <td>NaN</td>\n",
       "      <td>NaN</td>\n",
       "      <td>NaN</td>\n",
       "      <td>1</td>\n",
       "      <td>98.3</td>\n",
       "      <td>0</td>\n",
       "      <td>0</td>\n",
       "      <td>36 months</td>\n",
       "      <td>B</td>\n",
       "      <td>&lt; 1 year</td>\n",
       "      <td>MORTGAGE</td>\n",
       "      <td>credit_card</td>\n",
       "      <td>Individual</td>\n",
       "    </tr>\n",
       "    <tr>\n",
       "      <th>421092</th>\n",
       "      <td>13000</td>\n",
       "      <td>15.99</td>\n",
       "      <td>35000.0</td>\n",
       "      <td>30.90</td>\n",
       "      <td>1</td>\n",
       "      <td>22</td>\n",
       "      <td>NaN</td>\n",
       "      <td>NaN</td>\n",
       "      <td>NaN</td>\n",
       "      <td>NaN</td>\n",
       "      <td>0</td>\n",
       "      <td>100.0</td>\n",
       "      <td>1</td>\n",
       "      <td>0</td>\n",
       "      <td>60 months</td>\n",
       "      <td>D</td>\n",
       "      <td>5 years</td>\n",
       "      <td>RENT</td>\n",
       "      <td>debt_consolidation</td>\n",
       "      <td>Individual</td>\n",
       "    </tr>\n",
       "    <tr>\n",
       "      <th>421093</th>\n",
       "      <td>12000</td>\n",
       "      <td>19.99</td>\n",
       "      <td>64400.0</td>\n",
       "      <td>27.19</td>\n",
       "      <td>0</td>\n",
       "      <td>20</td>\n",
       "      <td>NaN</td>\n",
       "      <td>NaN</td>\n",
       "      <td>NaN</td>\n",
       "      <td>NaN</td>\n",
       "      <td>0</td>\n",
       "      <td>95.0</td>\n",
       "      <td>0</td>\n",
       "      <td>0</td>\n",
       "      <td>60 months</td>\n",
       "      <td>E</td>\n",
       "      <td>1 year</td>\n",
       "      <td>RENT</td>\n",
       "      <td>debt_consolidation</td>\n",
       "      <td>Individual</td>\n",
       "    </tr>\n",
       "    <tr>\n",
       "      <th>421094</th>\n",
       "      <td>20000</td>\n",
       "      <td>11.99</td>\n",
       "      <td>100000.0</td>\n",
       "      <td>10.83</td>\n",
       "      <td>1</td>\n",
       "      <td>10</td>\n",
       "      <td>NaN</td>\n",
       "      <td>NaN</td>\n",
       "      <td>NaN</td>\n",
       "      <td>NaN</td>\n",
       "      <td>0</td>\n",
       "      <td>100.0</td>\n",
       "      <td>0</td>\n",
       "      <td>1</td>\n",
       "      <td>36 months</td>\n",
       "      <td>B</td>\n",
       "      <td>10+ years</td>\n",
       "      <td>RENT</td>\n",
       "      <td>credit_card</td>\n",
       "      <td>Individual</td>\n",
       "    </tr>\n",
       "  </tbody>\n",
       "</table>\n",
       "<p>462191 rows × 20 columns</p>\n",
       "</div>"
      ],
      "text/plain": [
       "        loan_amnt  int_rate  annual_inc    dti  pub_rec  total_acc  \\\n",
       "8           11575      7.35    153000.0  16.99        1         46   \n",
       "10           7200     24.85     50000.0   6.07        0          5   \n",
       "24           7500      7.35    110000.0  13.12        0         27   \n",
       "42          10000     16.02     51979.0  10.11        2         21   \n",
       "91          14000     16.02     75000.0  10.86        0         10   \n",
       "...           ...       ...         ...    ...      ...        ...   \n",
       "421088      11575     15.59     25400.0  27.08        0         18   \n",
       "421089      12000     11.99     63000.0  23.69        0         61   \n",
       "421092      13000     15.99     35000.0  30.90        1         22   \n",
       "421093      12000     19.99     64400.0  27.19        0         20   \n",
       "421094      20000     11.99    100000.0  10.83        1         10   \n",
       "\n",
       "        annual_inc_joint  dti_joint  open_act_il  open_rv_12m  mort_acc  \\\n",
       "8                    NaN        NaN          1.0          2.0         2   \n",
       "10                   NaN        NaN          1.0          0.0         0   \n",
       "24                   NaN        NaN          4.0          1.0         4   \n",
       "42                   NaN        NaN          1.0          2.0         0   \n",
       "91                   NaN        NaN          2.0          2.0         1   \n",
       "...                  ...        ...          ...          ...       ...   \n",
       "421088               NaN        NaN          NaN          NaN         0   \n",
       "421089               NaN        NaN          NaN          NaN         1   \n",
       "421092               NaN        NaN          NaN          NaN         0   \n",
       "421093               NaN        NaN          NaN          NaN         0   \n",
       "421094               NaN        NaN          NaN          NaN         0   \n",
       "\n",
       "        pct_tl_nvr_dlq  pub_rec_bankruptcies loan_status        term grade  \\\n",
       "8                 95.7                     1           1   36 months     A   \n",
       "10                80.0                     0           1   36 months     E   \n",
       "24               100.0                     0           1   36 months     A   \n",
       "42               100.0                     2           1   60 months     C   \n",
       "91                90.0                     0           1   36 months     C   \n",
       "...                ...                   ...         ...         ...   ...   \n",
       "421088           100.0                     0           1   36 months     D   \n",
       "421089            98.3                     0           0   36 months     B   \n",
       "421092           100.0                     1           0   60 months     D   \n",
       "421093            95.0                     0           0   60 months     E   \n",
       "421094           100.0                     0           1   36 months     B   \n",
       "\n",
       "       emp_length home_ownership             purpose application_type  \n",
       "8         6 years            OWN         credit_card       Individual  \n",
       "10        2 years           RENT  debt_consolidation       Individual  \n",
       "24        7 years       MORTGAGE  debt_consolidation       Individual  \n",
       "42        7 years           RENT  debt_consolidation       Individual  \n",
       "91        7 years       MORTGAGE  debt_consolidation       Individual  \n",
       "...           ...            ...                 ...              ...  \n",
       "421088  10+ years           RENT         credit_card       Individual  \n",
       "421089   < 1 year       MORTGAGE         credit_card       Individual  \n",
       "421092    5 years           RENT  debt_consolidation       Individual  \n",
       "421093     1 year           RENT  debt_consolidation       Individual  \n",
       "421094  10+ years           RENT         credit_card       Individual  \n",
       "\n",
       "[462191 rows x 20 columns]"
      ]
     },
     "execution_count": 14,
     "metadata": {},
     "output_type": "execute_result"
    }
   ],
   "source": [
    "lendingclub['loan_status'].mask(lendingclub['loan_status'] == 'Fully Paid', 1, inplace=True)\n",
    "lendingclub['loan_status'].mask(lendingclub['loan_status'] != 1, 0, inplace=True)\n",
    "lendingclub"
   ]
  },
  {
   "cell_type": "markdown",
   "metadata": {},
   "source": [
    "# SVM\n",
    "\n",
    "El objetivo del SVM es\n",
    "encontrar un hiperplano en un espacio N-dimensional (N - el número de características) que clasifica claramente los puntos de datos.\n",
    "\n",
    "Para separar las dos clases de puntos de datos, hay muchos hiperplanos posibles que podrían elegirse. Nuestro objetivo es encontrar un plano que tenga el margen máximo, es decir, la distancia máxima entre puntos de datos de ambas clases. Maximizar la distancia del margen proporciona cierto refuerzo para que los puntos de datos futuros puedan clasificarse con más confianza.\n",
    "\n",
    "\n",
    "### Kernel RBF\n",
    "\n",
    "El kernel de la función de base radial no solo nos ayuda a evitar el cálculo de algunas características adicionales. El espacio de características RBF tiene un número infinito de dimensiones. Esto significa que podemos utilizar el kernel para construir límites de decisión muy complejos. Cuantas más dimensiones, más posibilidades hay de que encontremos un hiperplano que separe perfectamente nuestros datos.\n",
    "\n",
    "La parte de base radial del nombre proviene del hecho de que esta función disminuye de valor a medida que se aleja del centro. (En este caso, el centro es el vector de soporte). Esto explica por qué los límites de decisión tienen forma de campana cuando los visualizamos.\n",
    "\n",
    "#### C: El parámetro de penalización\n",
    "¿Qué hace el parámetro C en la clasificación SVM? Le dice al algoritmo cuánto le importan los puntos mal clasificados.\n",
    "\n",
    "\n",
    "#### Gamma \n",
    "\n",
    "El parámetro gamma determina qué tan rápido ocurre esta disipación; los valores mayores disminuyen el efecto de cualquier vector de soporte individual."
   ]
  },
  {
   "cell_type": "code",
   "execution_count": 36,
   "metadata": {},
   "outputs": [],
   "source": [
    "from sklearn.model_selection import train_test_split\n",
    "a =lendingclub.sample(n=10000, random_state=1234)\n",
    "\n",
    "\n",
    "X = a.drop('loan_status', axis=1)\n",
    "y = a['loan_status']\n",
    "\n",
    "\n",
    "y = y.astype(\"int\")\n",
    "\n",
    "X_train, X_test, y_train, y_test = train_test_split(X, y, test_size=0.2)"
   ]
  },
  {
   "cell_type": "code",
   "execution_count": 37,
   "metadata": {},
   "outputs": [],
   "source": [
    "svc = Pipeline(steps=[('preprocessor', preprocessor),\n",
    "                      ('classifier', SVC(kernel = \"rbf\"))])"
   ]
  },
  {
   "cell_type": "code",
   "execution_count": 38,
   "metadata": {},
   "outputs": [
    {
     "data": {
      "text/plain": [
       "Pipeline(steps=[('preprocessor',\n",
       "                 ColumnTransformer(transformers=[('num',\n",
       "                                                  Pipeline(steps=[('imputer',\n",
       "                                                                   SimpleImputer(strategy='median')),\n",
       "                                                                  ('scaler',\n",
       "                                                                   StandardScaler())]),\n",
       "                                                  Index(['loan_amnt', 'int_rate', 'annual_inc', 'dti', 'pub_rec', 'total_acc',\n",
       "       'annual_inc_joint', 'dti_joint', 'open_act_il', 'open_rv_12m',\n",
       "       'mort_acc', 'pct_tl_nvr_dlq', 'pub_rec_bankruptcies'],\n",
       "      dtype='object')),\n",
       "                                                 ('cat',\n",
       "                                                  Pipeline(steps=[('imputer',\n",
       "                                                                   SimpleImputer(fill_value='missing',\n",
       "                                                                                 strategy='constant')),\n",
       "                                                                  ('onehot',\n",
       "                                                                   OneHotEncoder(handle_unknown='ignore'))]),\n",
       "                                                  Index(['term', 'grade', 'emp_length', 'home_ownership', 'purpose',\n",
       "       'application_type'],\n",
       "      dtype='object'))])),\n",
       "                ('classifier', SVC())])"
      ]
     },
     "execution_count": 38,
     "metadata": {},
     "output_type": "execute_result"
    }
   ],
   "source": [
    "svc.fit(X_train, y_train)"
   ]
  },
  {
   "cell_type": "code",
   "execution_count": 39,
   "metadata": {},
   "outputs": [],
   "source": [
    "y_pred = svc.predict(X_test)"
   ]
  },
  {
   "cell_type": "code",
   "execution_count": 40,
   "metadata": {},
   "outputs": [
    {
     "name": "stdout",
     "output_type": "stream",
     "text": [
      "Accuracy: 0.7465\n",
      "AUC: 0.5316\n",
      "F1-Score: 0.8511\n",
      "\n",
      "Classification Report                       : \n",
      "              precision    recall  f1-score   support\n",
      "\n",
      "           0       0.58      0.08      0.15       519\n",
      "           1       0.75      0.98      0.85      1481\n",
      "\n",
      "    accuracy                           0.75      2000\n",
      "   macro avg       0.67      0.53      0.50      2000\n",
      "weighted avg       0.71      0.75      0.67      2000\n",
      "\n"
     ]
    }
   ],
   "source": [
    "print('Accuracy: %.4f'%accuracy_score(y_test, y_pred))\n",
    "print('AUC: %.4f'%roc_auc_score(y_test, y_pred))\n",
    "print('F1-Score: %.4f'%f1_score(y_test, y_pred))\n",
    "\n",
    "print('\\nClassification Report                       : ')\n",
    "print(classification_report(y_test, y_pred))\n"
   ]
  },
  {
   "cell_type": "markdown",
   "metadata": {},
   "source": [
    "# Tune"
   ]
  },
  {
   "cell_type": "code",
   "execution_count": 39,
   "metadata": {},
   "outputs": [
    {
     "name": "stdout",
     "output_type": "stream",
     "text": [
      "Fitting 5 folds for each of 3 candidates, totalling 15 fits\n"
     ]
    },
    {
     "name": "stderr",
     "output_type": "stream",
     "text": [
      "[Parallel(n_jobs=3)]: Using backend LokyBackend with 3 concurrent workers.\n",
      "[Parallel(n_jobs=3)]: Done  15 out of  15 | elapsed:   56.7s finished\n"
     ]
    },
    {
     "name": "stdout",
     "output_type": "stream",
     "text": [
      "{'classifier__C': 10}\n",
      "0.7521428571428572\n"
     ]
    }
   ],
   "source": [
    "param_grid = {'classifier__C': [10,1, 9]}\n",
    "from sklearn.model_selection import GridSearchCV\n",
    "CV = GridSearchCV(svc, param_grid, n_jobs= 3, verbose =3 )\n",
    "                  \n",
    "CV.fit(X_train, y_train)  \n",
    "print(CV.best_params_)    \n",
    "print(CV.best_score_)"
   ]
  },
  {
   "cell_type": "code",
   "execution_count": 44,
   "metadata": {},
   "outputs": [],
   "source": [
    "svc = Pipeline(steps=[('preprocessor', preprocessor),\n",
    "                      ('classifier', SVC(C= 10, kernel = \"rbf\",probability=True))])"
   ]
  },
  {
   "cell_type": "code",
   "execution_count": 45,
   "metadata": {},
   "outputs": [
    {
     "data": {
      "text/plain": [
       "Pipeline(steps=[('preprocessor',\n",
       "                 ColumnTransformer(transformers=[('num',\n",
       "                                                  Pipeline(steps=[('imputer',\n",
       "                                                                   SimpleImputer(strategy='median')),\n",
       "                                                                  ('scaler',\n",
       "                                                                   StandardScaler())]),\n",
       "                                                  Index(['loan_amnt', 'int_rate', 'annual_inc', 'dti', 'pub_rec', 'total_acc',\n",
       "       'annual_inc_joint', 'dti_joint', 'open_act_il', 'open_rv_12m',\n",
       "       'mort_acc', 'pct_tl_nvr_dlq', 'pub_rec_bankruptcies'],\n",
       "      dtype='object')),\n",
       "                                                 ('cat',\n",
       "                                                  Pipeline(steps=[('imputer',\n",
       "                                                                   SimpleImputer(fill_value='missing',\n",
       "                                                                                 strategy='constant')),\n",
       "                                                                  ('onehot',\n",
       "                                                                   OneHotEncoder(handle_unknown='ignore'))]),\n",
       "                                                  Index(['term', 'grade', 'emp_length', 'home_ownership', 'purpose',\n",
       "       'application_type'],\n",
       "      dtype='object'))])),\n",
       "                ('classifier', SVC(C=10, probability=True))])"
      ]
     },
     "execution_count": 45,
     "metadata": {},
     "output_type": "execute_result"
    }
   ],
   "source": [
    "svc.fit(X_train, y_train)"
   ]
  },
  {
   "cell_type": "code",
   "execution_count": 46,
   "metadata": {},
   "outputs": [],
   "source": [
    "y_pred = svc.predict(X_test)"
   ]
  },
  {
   "cell_type": "markdown",
   "metadata": {},
   "source": [
    "# SCORING MODELO FINAL"
   ]
  },
  {
   "cell_type": "code",
   "execution_count": 47,
   "metadata": {},
   "outputs": [
    {
     "name": "stdout",
     "output_type": "stream",
     "text": [
      "Accuracy: 0.7500\n",
      "AUC: 0.5746\n",
      "F1-Score: 0.8477\n",
      "\n",
      "Classification Report                       : \n",
      "              precision    recall  f1-score   support\n",
      "\n",
      "           0       0.55      0.21      0.30       519\n",
      "           1       0.77      0.94      0.85      1481\n",
      "\n",
      "    accuracy                           0.75      2000\n",
      "   macro avg       0.66      0.57      0.58      2000\n",
      "weighted avg       0.71      0.75      0.71      2000\n",
      "\n"
     ]
    }
   ],
   "source": [
    "print('Accuracy: %.4f'%accuracy_score(y_test, y_pred))\n",
    "print('AUC: %.4f'%roc_auc_score(y_test, y_pred))\n",
    "print('F1-Score: %.4f'%f1_score(y_test, y_pred))\n",
    "\n",
    "print('\\nClassification Report                       : ')\n",
    "print(classification_report(y_test, y_pred))\n"
   ]
  },
  {
   "cell_type": "code",
   "execution_count": 59,
   "metadata": {},
   "outputs": [],
   "source": [
    "# Save to file in the current working directory\n",
    "svm_rbf_pkl = \"svm_rbf.pkl\"\n",
    "with open(svm_rbf_pkl, 'wb') as file:\n",
    "    pickle.dump(svc, file)"
   ]
  },
  {
   "cell_type": "markdown",
   "metadata": {},
   "source": [
    "# PLOTING"
   ]
  },
  {
   "cell_type": "code",
   "execution_count": 49,
   "metadata": {},
   "outputs": [
    {
     "name": "stdout",
     "output_type": "stream",
     "text": [
      "Confusion matrix, without normalization\n",
      "[[ 109  410]\n",
      " [  90 1391]]\n",
      "Normalized confusion matrix\n",
      "[[0.21001927 0.78998073]\n",
      " [0.06076975 0.93923025]]\n"
     ]
    },
    {
     "data": {
      "image/png": "[encoded data removed]",
      "text/plain": [
       "<Figure size 432x288 with 2 Axes>"
      ]
     },
     "metadata": {
      "needs_background": "light"
     },
     "output_type": "display_data"
    },
    {
     "data": {
      "image/png": "[encoded data removed]",
      "text/plain": [
       "<Figure size 432x288 with 2 Axes>"
      ]
     },
     "metadata": {
      "needs_background": "light"
     },
     "output_type": "display_data"
    }
   ],
   "source": [
    "# Plot non-normalized confusion matrix\n",
    "titles_options = [(\"Confusion matrix, without normalization\", None),\n",
    "                  (\"Normalized confusion matrix\", 'true')]\n",
    "for title, normalize in titles_options:\n",
    "    disp = plot_confusion_matrix(svc, X_test, y_test,\n",
    "                                 cmap=plt.cm.Blues,\n",
    "                                 normalize=normalize)\n",
    "    disp.ax_.set_title(title)\n",
    "\n",
    "    print(title)\n",
    "    print(disp.confusion_matrix)\n",
    "\n",
    "plt.show()\n"
   ]
  },
  {
   "cell_type": "code",
   "execution_count": 50,
   "metadata": {},
   "outputs": [],
   "source": [
    "prob_predictions = svc.predict_proba(X_test)"
   ]
  },
  {
   "cell_type": "code",
   "execution_count": 51,
   "metadata": {},
   "outputs": [
    {
     "data": {
      "image/png": "[encoded data removed]",
      "text/plain": [
       "<Figure size 432x288 with 1 Axes>"
      ]
     },
     "metadata": {
      "needs_background": "light"
     },
     "output_type": "display_data"
    }
   ],
   "source": [
    "# keep probabilities for the positive outcome only\n",
    "yhat = prob_predictions[:, 1]\n",
    "# calculate roc curves\n",
    "fpr, tpr, thresholds = roc_curve(y_test, yhat)\n",
    "# plot the roc curve for the model\n",
    "plt.plot([0,1], [0,1], linestyle='--', label='No Skill')\n",
    "plt.plot(fpr, tpr, marker='.', label='Random Forest')\n",
    "# axis labels\n",
    "plt.xlabel('False Positive Rate')\n",
    "plt.ylabel('True Positive Rate')\n",
    "plt.legend()\n",
    "# show the plot\n",
    "plt.show()"
   ]
  },
  {
   "cell_type": "code",
   "execution_count": 52,
   "metadata": {},
   "outputs": [],
   "source": [
    "# calculate the g-mean for each threshold\n",
    "gmeans = np.sqrt(tpr * (1-fpr))"
   ]
  },
  {
   "cell_type": "code",
   "execution_count": 53,
   "metadata": {},
   "outputs": [
    {
     "name": "stdout",
     "output_type": "stream",
     "text": [
      "Best Threshold=0.774189, G-Mean=0.619\n"
     ]
    }
   ],
   "source": [
    "# locate the index of the largest g-mean\n",
    "ix = np.argmax(gmeans)\n",
    "print('Best Threshold=%f, G-Mean=%.3f' % (thresholds[ix], gmeans[ix]))"
   ]
  },
  {
   "cell_type": "code",
   "execution_count": 54,
   "metadata": {},
   "outputs": [
    {
     "data": {
      "image/png": "[encoded data removed]",
      "text/plain": [
       "<Figure size 432x288 with 1 Axes>"
      ]
     },
     "metadata": {
      "needs_background": "light"
     },
     "output_type": "display_data"
    }
   ],
   "source": [
    "# plot the roc curve for the model\n",
    "plt.plot([0,1], [0,1], linestyle='--', label='No Skill')\n",
    "plt.plot(fpr, tpr, marker='.', label='Random Forest')\n",
    "plt.scatter(fpr[ix], tpr[ix], s=100, marker='o', color='black', label='Best')\n",
    "# axis labels\n",
    "plt.xlabel('False Positive Rate')\n",
    "plt.ylabel('True Positive Rate')\n",
    "plt.legend()\n",
    "# show the plot\n",
    "plt.show()"
   ]
  },
  {
   "cell_type": "code",
   "execution_count": 55,
   "metadata": {},
   "outputs": [],
   "source": [
    "# calculate pr-curve\n",
    "precision, recall, thresholds = precision_recall_curve(y_test, yhat)"
   ]
  },
  {
   "cell_type": "code",
   "execution_count": 56,
   "metadata": {},
   "outputs": [
    {
     "data": {
      "image/png": "[encoded data removed]",
      "text/plain": [
       "<Figure size 432x288 with 1 Axes>"
      ]
     },
     "metadata": {
      "needs_background": "light"
     },
     "output_type": "display_data"
    }
   ],
   "source": [
    "# plot the roc curve for the model\n",
    "no_skill = len(y_test[y_test==1]) / len(y_test)\n",
    "plt.plot([0,1], [no_skill,no_skill], linestyle='--', label='No Skill')\n",
    "plt.plot(recall, precision, marker='.', label='Random Forest')\n",
    "# axis labels\n",
    "plt.xlabel('Recall')\n",
    "plt.ylabel('Precision')\n",
    "plt.legend()\n",
    "# show the plot\n",
    "plt.show()"
   ]
  },
  {
   "cell_type": "code",
   "execution_count": 57,
   "metadata": {},
   "outputs": [
    {
     "data": {
      "image/png": "[encoded data removed]",
      "text/plain": [
       "<Figure size 432x288 with 1 Axes>"
      ]
     },
     "metadata": {
      "needs_background": "light"
     },
     "output_type": "display_data"
    }
   ],
   "source": [
    "skplt.metrics.plot_cumulative_gain(y_test, prob_predictions)\n",
    "plt.show()"
   ]
  }
 ],
 "metadata": {
  "kernelspec": {
   "display_name": "Python 3",
   "language": "python",
   "name": "python3"
  },
  "language_info": {
   "codemirror_mode": {
    "name": "ipython",
    "version": 3
   },
   "file_extension": ".py",
   "mimetype": "text/x-python",
   "name": "python",
   "nbconvert_exporter": "python",
   "pygments_lexer": "ipython3",
   "version": "3.8.5"
  }
 },
 "nbformat": 4,
 "nbformat_minor": 4
}
